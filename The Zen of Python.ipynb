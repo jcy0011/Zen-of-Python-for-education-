{
 "cells": [
  {
   "cell_type": "markdown",
   "metadata": {},
   "source": [
    "# The Zen of Python"
   ]
  },
  {
   "cell_type": "code",
   "execution_count": null,
   "metadata": {},
   "outputs": [],
   "source": [
    "import this # The Zen of Python"
   ]
  },
  {
   "cell_type": "code",
   "execution_count": 75,
   "metadata": {},
   "outputs": [],
   "source": [
    "# C:\\Program Files\\Python37\\Lib\\this.py\n",
    "# Caesar Cipher of the Zen of Python.\n",
    "s = \"\"\"Gur Mra bs Clguba, ol Gvz Crgref\n",
    "\n",
    "Ornhgvshy vf orggre guna htyl.\n",
    "Rkcyvpvg vf orggre guna vzcyvpvg.\n",
    "Fvzcyr vf orggre guna pbzcyrk.\n",
    "Pbzcyrk vf orggre guna pbzcyvpngrq.\n",
    "Syng vf orggre guna arfgrq.\n",
    "Fcnefr vf orggre guna qrafr.\n",
    "Ernqnovyvgl pbhagf.\n",
    "Fcrpvny pnfrf nera'g fcrpvny rabhtu gb oernx gur ehyrf.\n",
    "Nygubhtu cenpgvpnyvgl orngf chevgl.\n",
    "Reebef fubhyq arire cnff fvyragyl.\n",
    "Hayrff rkcyvpvgyl fvyraprq.\n",
    "Va gur snpr bs nzovthvgl, ershfr gur grzcgngvba gb thrff.\n",
    "Gurer fubhyq or bar-- naq cersrenoyl bayl bar --boivbhf jnl gb qb vg.\n",
    "Nygubhtu gung jnl znl abg or boivbhf ng svefg hayrff lbh'er Qhgpu.\n",
    "Abj vf orggre guna arire.\n",
    "Nygubhtu arire vf bsgra orggre guna *evtug* abj.\n",
    "Vs gur vzcyrzragngvba vf uneq gb rkcynva, vg'f n onq vqrn.\n",
    "Vs gur vzcyrzragngvba vf rnfl gb rkcynva, vg znl or n tbbq vqrn.\n",
    "Anzrfcnprf ner bar ubaxvat terng vqrn -- yrg'f qb zber bs gubfr!\"\"\"\n",
    "\n",
    "d = {}\n",
    "for c in (65, 97):\n",
    "    for i in range(26):\n",
    "        d[chr(i+c)] = chr((i+13) % 26 + c)\n",
    "\n",
    "print(\"\".join([d.get(c, c) for c in s]))"
   ]
  },
  {
   "cell_type": "code",
   "execution_count": 78,
   "metadata": {},
   "outputs": [],
   "source": [
    "print(this.d) # {'A': 'N', 'B': 'O',...}"
   ]
  },
  {
   "cell_type": "markdown",
   "metadata": {},
   "source": [
    "<div style=\"border: solid 2px;  text-align: center; padding-bottom:15px; padding-left: 55px; padding-right: 5px;\"><h3>The Zen of Python is to code as concisely as possible.</h3>\n",
    "</div>"
   ]
  },
  {
   "cell_type": "code",
   "execution_count": 79,
   "metadata": {},
   "outputs": [],
   "source": [
    "# list indexing\n",
    "L = ['Alfa', 'Bravo', 'Charlie', 'Delta', 'Echo', 'Foxtrot', 'Golf', 'Hotel', 'India', 'Juliett', 'Kilo',\n",
    "     'Lima', 'Mike', 'November', 'Oscar', 'Papa', 'Quebec', 'Romeo', 'Sierra', 'Tango', 'Uniform', 'Victor',\n",
    "     'Whiskey', 'X-ray', 'Yankee', 'Zulu']\n",
    "Alfa = L[0]\n",
    "Alfa1 = L[-26] # 'Alfa'\n",
    "\n",
    "Zulu = L[-1]\n",
    "Zulu1 = L[25] # 'Zulu'\n",
    "\n",
    "print(Alfa == Alfa1 and Zulu == Zulu1) # True\n",
    "\n",
    "d = {}\n",
    "for i in range(len(L)): # i = each elements in [0, 1, 2, 3, ..., 25]\n",
    "    d[i] = L[i] # {0: 'Alfa', 1: 'Bravo', ... , 25: 'Zulu'}\n",
    "\n",
    "d1 = {}\n",
    "c=0\n",
    "for i in L: # i = each elements in ['Alfa', 'Bravo', ....]\n",
    "    d1[c] = i\n",
    "    c += 1 # same as c = c + 1\n",
    "\n",
    "print(d == d1) # True"
   ]
  },
  {
   "cell_type": "markdown",
   "metadata": {},
   "source": [
    "### List, String"
   ]
  },
  {
   "cell_type": "code",
   "execution_count": 80,
   "metadata": {},
   "outputs": [],
   "source": [
    "# list slicing\n",
    "From_Alfa_to_Delta = L[:4]\n",
    "From_Whiskey_to_Zulu = L[-4:]\n",
    "From_Whiskey_to_Zulu_2 = L[22:]\n",
    "\n",
    "print(From_Whiskey_to_Zulu == From_Whiskey_to_Zulu_2, \"\\n\")\n",
    "print(From_Alfa_to_Delta, \"\\n\\n\", From_Whiskey_to_Zulu, \"\\n\", sep='')\n",
    "\n",
    "From_Charlie_to_Golf = L[2:7]\n",
    "\n",
    "print(From_Charlie_to_Golf, \"\\n\")\n",
    "\n",
    "Reverse_L = L[::-1]\n",
    "Odd_number_index_L = L[1::2]\n",
    "Even_number_index_L = L[::2]\n",
    "\n",
    "print(Reverse_L, \"\\n\\n\", Even_number_index_L, \"\\n\\n\", Odd_number_index_L, \"\\n\", sep='')\n",
    "\n",
    "Delta_Foxtrot_Hotel = L[3:8:2]\n",
    "Hotel_Foxtrot_Delta = L[7:2:-2]\n",
    "\n",
    "print(Delta_Foxtrot_Hotel, Hotel_Foxtrot_Delta)"
   ]
  },
  {
   "cell_type": "code",
   "execution_count": 81,
   "metadata": {},
   "outputs": [],
   "source": [
    "# string methods\n",
    "# https://www.programiz.com/python-programming/methods/string\n",
    "\n",
    "UPPER = []\n",
    "lower = []\n",
    "sWAPCASE = []\n",
    "\n",
    "for i in L:\n",
    "    UPPER.append(i.upper())\n",
    "    lower.append(i.lower())\n",
    "    sWAPCASE += [i.swapcase()]\n",
    "\n",
    "print(UPPER, \"\\n\\n\", lower, \"\\n\\n\", sWAPCASE, sep='')"
   ]
  },
  {
   "cell_type": "code",
   "execution_count": 82,
   "metadata": {},
   "outputs": [],
   "source": [
    "# list methods (1)\n",
    "# https://www.programiz.com/python-programming/list\n",
    "# https://www.geeksforgeeks.org/python-list-sort/\n",
    "\n",
    "M = [1, 3, 5, 7, 9, 11]\n",
    "M.append(13)\n",
    "print(M) # 1 ~ 13\n",
    "\n",
    "M.pop()\n",
    "print(M) # 1 ~ 11\n",
    "\n",
    "J=M.pop()\n",
    "print(M) # 1 ~ 9\n",
    "print(J) # 11\n",
    "\n",
    "M.insert(2, 4)\n",
    "print(M) # 1, 3, 4, 5, 7, 9\n",
    "\n",
    "M.pop(2)\n",
    "print(M) # 1, 3, 5, 7, 9\n",
    "\n",
    "M.extend([11, 13, 15])\n",
    "print(M) # 1 ~ 15\n",
    "\n",
    "M += [17, 19] # this is equivalent to 'M = M + [17, 19]'\n",
    "print(M) # 1 ~ 19\n",
    "\n",
    "M *= 3 # this is equivalent to M = M * 3\n",
    "print(M) # 1, 3, 5, ..., 19, 1, 3, 5, ..., 19, 1, 3, 5, ..., 19\n",
    "\n",
    "del M[20:]\n",
    "print(M) # 1, 3, 5, ..., 19, 1, 3, 5, ..., 19\n",
    "\n",
    "M[10:] = []\n",
    "print(M) # 1, 3, 5, ..., 19"
   ]
  },
  {
   "cell_type": "code",
   "execution_count": 83,
   "metadata": {},
   "outputs": [],
   "source": [
    "# list methods (2)\n",
    "N = [1, 2, '3', 2, 1, 2, 3, 4, 5, 3]\n",
    "i = N.index(3)\n",
    "print(i) # 6\n",
    "\n",
    "i = N.index('3')\n",
    "print(i) # 2\n",
    "\n",
    "i = N.count(3)\n",
    "print(i) # 2\n",
    "\n",
    "N.remove('3')\n",
    "N.sort()\n",
    "print(N) # 1, 1, 2, 2, .... , 4, 5\n",
    "\n",
    "O = [1, 2, '3', 2, 1, 2, 3, 4, 5, 3]\n",
    "O.remove('3')\n",
    "O.sort(reverse=True)\n",
    "print(O) # 5, 4, .... , 2, 2, 1, 1"
   ]
  },
  {
   "cell_type": "code",
   "execution_count": 84,
   "metadata": {},
   "outputs": [],
   "source": [
    "# list methods (3)\n",
    "P = [(1,2,1), (3,1,5), (4,3,2), (2,-5,1), (7,0,4)]\n",
    "\n",
    "def Picker(tuple1):\n",
    "    return tuple1[1]\n",
    "\n",
    "P.sort(key=Picker, reverse=True)\n",
    "print(P) # (4,3,2), (1,2,1), (3,1,5), (7,0,4), (2,-5,1)"
   ]
  },
  {
   "cell_type": "code",
   "execution_count": 85,
   "metadata": {},
   "outputs": [],
   "source": [
    "Q = [(1,2,1), (3,1,5), (4,3,2), (2,-5,1), (7,0,4)]\n",
    "Q.sort(key=lambda elem: elem[1], reverse = True)\n",
    "print(Q) # same as above"
   ]
  },
  {
   "cell_type": "code",
   "execution_count": 86,
   "metadata": {},
   "outputs": [],
   "source": [
    "R = [(1,2,1), (3,1,5), (4,3,2), (2,-5,1), (7,0,4)]\n",
    "from operator import itemgetter\n",
    "R.sort(key=itemgetter(1), reverse = True)\n",
    "print(R) # same as above"
   ]
  },
  {
   "cell_type": "code",
   "execution_count": 87,
   "metadata": {},
   "outputs": [],
   "source": [
    "S = [(1,2,1), (3,1,5), (4,3,2), (2,-5,1), (7,0,4)]\n",
    "S.sort(key=itemgetter(2, 1)) # first sort by 3rd elements in each tuple, and then sort by 2nd elements in case of a tie\n",
    "print(S) # (2,-5,1), (1,2,1), (4,3,2), (7,0,4), (3,1,5)"
   ]
  },
  {
   "cell_type": "code",
   "execution_count": 88,
   "metadata": {},
   "outputs": [],
   "source": [
    "T = [(1,2,1), (3,1,5), (4,3,2), (2,-5,1), (7,0,4)]\n",
    "T.reverse()\n",
    "print(T)"
   ]
  },
  {
   "cell_type": "code",
   "execution_count": 89,
   "metadata": {},
   "outputs": [],
   "source": [
    "# sorted and reversed functions\n",
    "print(T)\n",
    "T_reverse = reversed(T) # 'reversed' returns an abstract reverse object\n",
    "print(T_reverse)\n",
    "T_rev_list = list(T_reverse) # 'list' can make the reverse object a list\n",
    "print(T_rev_list)\n",
    "for i in T_reverse: # reverse object is iterable\n",
    "    pass\n",
    "\n",
    "T_sorted = sorted(T) # 'sorted' returns a sorted list\n",
    "print(T_sorted)"
   ]
  },
  {
   "cell_type": "code",
   "execution_count": 90,
   "metadata": {},
   "outputs": [],
   "source": [
    "# list comprehension\n",
    "print(L, '\\n')\n",
    "List1 = [xdaf[0].lower() for xdaf in L]\n",
    "print(List1) # [a, b, c, ... , z]\n",
    "List2 = [len(f) for f in L]\n",
    "print(List2) # [4, 5, ..., 4]\n",
    "List3 = [x^2 for x in range(4)] # note that ^ is not equal to **. ^ is bitwise xor operation\n",
    "\n",
    "#bitwise xor operation: 4 = 100(2), 2 = 010(2)\n",
    "# 4 ^ 2 = (1 xor 0) (0 xor 1) (0 xor 0) = 110(2) = 6\n",
    "# A xor B = (A|B) - (A&B)\n",
    "# (0 xor 0) = (1 xor 1) = 0\n",
    "# (0 xor 1) = (1 xor 0) = 1\n",
    "\n",
    "print(List3) # [2, 3, 0, 1]"
   ]
  },
  {
   "cell_type": "markdown",
   "metadata": {},
   "source": [
    "### Dictionary"
   ]
  },
  {
   "cell_type": "code",
   "execution_count": 91,
   "metadata": {},
   "outputs": [],
   "source": [
    "# dictionary methods (1)\n",
    "new_dict = dict() # same as 'new_dict = {}'\n",
    "import string\n",
    "for i in L:\n",
    "    new_dict[string.ascii_uppercase[L.index(i)]] = i # same as 'new_dict['ABCDEFGHIJKLMNOPQRSTUVWXYZ'[L.index(i)]] = i'\n",
    "print(new_dict) # {'A': 'Alfa', 'B': 'Bravo', ...}"
   ]
  },
  {
   "cell_type": "code",
   "execution_count": 92,
   "metadata": {},
   "outputs": [],
   "source": [
    "# dictionary methods (2)\n",
    "Least = ['PyTorch', 'Matplotlib', 'Tensorflow', 'NumPy', 'Tensorflow', 'Matplotlib', 'Tensorflow', 'Matplotlib', 'SciPy',\n",
    "         'NumPy', 'SciPy', 'Pandas', 'SciPy', 'SciPy', 'PyTorch', 'Matplotlib', 'Pandas', 'Keras', 'Pandas', 'Keras',\n",
    "         'Matplotlib', 'NumPy', 'Tensorflow', 'Tensorflow', 'Tensorflow', 'Matplotlib', 'Tensorflow', 'Matplotlib',\n",
    "         'Keras', 'Keras', 'SciPy', 'Pandas', 'Pandas', 'NumPy', 'PyTorch', 'NumPy', 'Matplotlib', 'Tensorflow',\n",
    "         'Tensorflow', 'Matplotlib', 'PyTorch', 'Keras', 'PyTorch', 'Pandas', 'Tensorflow', 'PyTorch', 'Matplotlib',\n",
    "         'PyTorch']\n",
    "\n",
    "# let's count how many times each strings appear in the 'Least' list\n",
    "# Approach 1\n",
    "D = {}\n",
    "for i in Least:\n",
    "    if i in D:\n",
    "        D[i] += 1\n",
    "    else:\n",
    "        D[i] = 1\n",
    "\n",
    "print(D)"
   ]
  },
  {
   "cell_type": "code",
   "execution_count": 93,
   "metadata": {},
   "outputs": [],
   "source": [
    "# Approach 2\n",
    "D = {}\n",
    "for i in Least:\n",
    "    D[i] = D.get(i, 0) + 1\n",
    "# get method takes 2 arguments: key, default value.\n",
    "# When there is such key in the dictionary, 'get' method returns the corresponding value in the dictionary.\n",
    "# Otherwise, it returns the default value. However, it does not change the original dictionary by itself.\n",
    "\n",
    "print(D)"
   ]
  },
  {
   "cell_type": "code",
   "execution_count": 94,
   "metadata": {},
   "outputs": [],
   "source": [
    "# dictionary methods (3)\n",
    "print(\"list(D.keys()):\\n\", list(D.keys()), \"\\n\")\n",
    "print(\"list(D.values()):\\n\",list(D.values()), \"\\n\")\n",
    "print(\"list(D.items()):\\n\",list(D.items()), \"\\n\")\n",
    "\n",
    "# note that keys, values, items methods only returns an iterable object,\n",
    "# so you should make it a list or tuple, etc. to visualize it.\n",
    "B = []\n",
    "for i in D:\n",
    "    B += [i] # i = the keys of the dictionary. not the values.\n",
    "\n",
    "print(\"all keys:\\n\", B, \"\\n\") # [all the keys of the 'D']\n",
    "\n",
    "C = []\n",
    "for i in D.keys():\n",
    "    C += [i]\n",
    "print(\"all keys:\\n\", C, \"\\n\") # same as above, but the order may change, since dictionary is an unordered data structure\n",
    "\n",
    "c = []\n",
    "for i in sorted(D.keys()):\n",
    "    c += [i]\n",
    "print(\"all keys sorted:\\n\", c, \"\\n\") # [all the keys of the 'D', sorted alphabetically]\n",
    "\n",
    "c = []\n",
    "for i in sorted(D.keys(), key=len):\n",
    "    c += [i]\n",
    "print(\"all keys sorted by length:\\n\", c, \"\\n\") # [all the keys of the 'D', sorted by length of the key]\n",
    "\n",
    "c = []\n",
    "for i in sorted(D.keys(), key=lambda x: D[x]):\n",
    "    c += [i]\n",
    "print(\"all keys sorted by value:\\n\", c, \"\\n\") # [all the keys of the 'D', sorted by the the values for each keys]\n",
    "\n",
    "E = []\n",
    "for i in D.values():\n",
    "    E += [i]\n",
    "print(\"all values:\\n\", E, \"\\n\") # [all the values of the 'D']\n",
    "\n",
    "F = []\n",
    "for i, j in D.items():\n",
    "    F += [(i,j)]\n",
    "print(\"all items:\\n\", F, \"\\n\") # [all the (key, value) tuples of the 'D']\n",
    "\n",
    "f = []\n",
    "for i, j in sorted(D.items(), key=itemgetter(1,0)):\n",
    "    f += [(i,j)]\n",
    "print(\"all items sorted by value and then key\\n\", f, \"\\n\")\n",
    "# [all the (key, value) tuples of the 'D', sorted by the values first, and then by the keys alphabetically]"
   ]
  },
  {
   "cell_type": "code",
   "execution_count": 95,
   "metadata": {},
   "outputs": [],
   "source": [
    "# iterating through a dictionary\n",
    "# it is often painful to search the largest, shortest, smallest, longest, etc. value in the dictionary.\n",
    "# one way to do that is to make a (value, key) dictionary\n",
    "\n",
    "G={}\n",
    "for i, j in D.items():\n",
    "    G[j] = i\n",
    "\n",
    "maximum_value_in_D = max(G)\n",
    "print(maximum_value_in_D) # 10\n",
    "\n",
    "key_for_the_maximum_value_in_D = G[max(G)]\n",
    "print(key_for_the_maximum_value_in_D) # Tensorflow\n",
    "\n",
    "print(len(D)) # 7\n",
    "print(len(G)) # 4 # len(G) is smaller than len(D) because items with same values were overlapped into 1.\n",
    "\n",
    "# To prevent this problem, use sorted result of dictionary.items()\n",
    "sorted_items = sorted(D.items(), key=lambda x: x[1])\n",
    "max_val = sorted_items[-1][1]\n",
    "for i, j in sorted_items:\n",
    "    if j >= max_val:\n",
    "        print(i, end=' ') # Matplotlib Tensorflow"
   ]
  },
  {
   "cell_type": "markdown",
   "metadata": {},
   "source": [
    "### Package, Module"
   ]
  },
  {
   "cell_type": "markdown",
   "metadata": {},
   "source": [
    "#### What is a package and a module?\n",
    "##### 'from A import B'    ----->    A = package, B = module\n",
    "##### module is basically a .py file\n",
    "##### package is basically a directory(folder) with an '\\__init__.py' file included."
   ]
  },
  {
   "cell_type": "code",
   "execution_count": 104,
   "metadata": {},
   "outputs": [],
   "source": [
    "# https://dojang.io/mod/page/view.php?id=2450\n",
    "\n",
    "# for example,\n",
    "# in C:\\Program Files\\Python37\\Lib\\multiprocessing, there is an __init__.py file\n",
    "# so, 'multiprocessing' is an importable package\n",
    "\n",
    "# in 'multiprocessing' folder, there is a 'context.py' file\n",
    "# in 'context.py' file, there is a class named 'BaseContext'\n",
    "# in 'BaseContext' class, there is a method(function) named cpu_count, which takes no argument.\n",
    "\n",
    "# in '__init__.py', there is a line 'from . import context'\n",
    "# when we import a package, the __init__.py is automatically run.\n",
    "# from . import context means 'from current package(multiprocessing), import context.py'\n",
    "# therefore, when we import multiprocessing package, we automatically import context.py module\n",
    "\n",
    "import multiprocessing\n",
    "multiprocessing.cpu_count()"
   ]
  },
  {
   "cell_type": "markdown",
   "metadata": {},
   "source": [
    "### Digging into library source codes"
   ]
  },
  {
   "cell_type": "markdown",
   "metadata": {},
   "source": [
    "##### Web development often entails a ton of error.\n",
    "##### The ability to understand the source code of the library/framework you're using will help debugging."
   ]
  },
  {
   "cell_type": "markdown",
   "metadata": {},
   "source": [
    "### 1. \\*args, **kwargs"
   ]
  },
  {
   "cell_type": "code",
   "execution_count": 139,
   "metadata": {},
   "outputs": [],
   "source": [
    "# *something, and **something are used when you don't want to specify the number of arguments of the function you're building.\n",
    "def accept_whatever_number_of_args(*baaa):\n",
    "    for i in baaa[:-1]:\n",
    "        print(i, end=' ')\n",
    "    print(baaa[-1])"
   ]
  },
  {
   "cell_type": "code",
   "execution_count": 141,
   "metadata": {},
   "outputs": [],
   "source": [
    "accept_whatever_number_of_args(1,2,3,4,5,6,7,8,9)"
   ]
  },
  {
   "cell_type": "code",
   "execution_count": 160,
   "metadata": {},
   "outputs": [],
   "source": [
    "accept_whatever_number_of_args([1,2,3,4,5,6,7,8,9])"
   ]
  },
  {
   "cell_type": "code",
   "execution_count": 154,
   "metadata": {},
   "outputs": [],
   "source": [
    "# **something is for named arguments of unknown number, it is treated like a dictionary\n",
    "def accept_whatever_number_of_named_args(**baa):\n",
    "    for i, j in sorted(baa.items(), key = lambda x: x[0])[:-1]:\n",
    "        print(i, baa[i], end=' ')\n",
    "    x = sorted(baa.items(), key = lambda x: x[0])[-1]\n",
    "    print(x[0], x[1])"
   ]
  },
  {
   "cell_type": "code",
   "execution_count": 158,
   "metadata": {},
   "outputs": [],
   "source": [
    "accept_whatever_number_of_named_args(lime=11, apple=1, banana=2, hackberries=8,\n",
    "                                     coconut=3, dewberries=4, farkleberries=6,\n",
    "                                     elderberries=5, grapes=7, kiwi=10,\n",
    "                                    indian_fig=9, mango=12)"
   ]
  },
  {
   "cell_type": "code",
   "execution_count": 165,
   "metadata": {},
   "outputs": [],
   "source": [
    "def param_arg_kwarg(a, b=None,*args, **kwargs):\n",
    "    print(a)\n",
    "    print(b)\n",
    "    print(args)\n",
    "    print(kwargs)"
   ]
  },
  {
   "cell_type": "code",
   "execution_count": 177,
   "metadata": {},
   "outputs": [],
   "source": [
    "param_arg_kwarg(1, 2,3,4,5,6,7,8, k=1, l=2)"
   ]
  },
  {
   "cell_type": "code",
   "execution_count": 176,
   "metadata": {},
   "outputs": [],
   "source": [
    "def param_arg_kwarg_error(a=None, b, *args, **kwargs):\n",
    "    print(a)\n",
    "    print(b)\n",
    "    print(args)\n",
    "    print(kwargs)"
   ]
  },
  {
   "cell_type": "code",
   "execution_count": 175,
   "metadata": {},
   "outputs": [],
   "source": [
    "def param_arg_kwarg_error2(a, b=None, **kwargs, *args):\n",
    "    print(a)\n",
    "    print(b)\n",
    "    print(args)\n",
    "    print(kwargs)"
   ]
  },
  {
   "cell_type": "code",
   "execution_count": 173,
   "metadata": {},
   "outputs": [],
   "source": [
    "def param_arg_kwarg_2(a, *args, b=None, **kwargs):\n",
    "    print(a)\n",
    "    print(b)\n",
    "    print(args)\n",
    "    print(kwargs)"
   ]
  },
  {
   "cell_type": "code",
   "execution_count": 180,
   "metadata": {},
   "outputs": [],
   "source": [
    "param_arg_kwarg_2(1,2,3,4,5,6,7,8, k=1, l=2)"
   ]
  },
  {
   "cell_type": "code",
   "execution_count": 179,
   "metadata": {},
   "outputs": [],
   "source": [
    "param_arg_kwarg_2(1,2,3,4,5,6,7, b=8, k=1, l=2)"
   ]
  },
  {
   "cell_type": "code",
   "execution_count": 181,
   "metadata": {},
   "outputs": [],
   "source": [
    "def param_arg_kwarg_bad(*args, a, b=None,  **kwargs):\n",
    "    print(a)\n",
    "    print(b)\n",
    "    print(args)\n",
    "    print(kwargs)"
   ]
  },
  {
   "cell_type": "code",
   "execution_count": 185,
   "metadata": {},
   "outputs": [],
   "source": [
    "param_arg_kwarg_bad(1,2,3,4,5,6,7, b=8, k=1, l=2) # error"
   ]
  },
  {
   "cell_type": "code",
   "execution_count": 186,
   "metadata": {},
   "outputs": [],
   "source": [
    "param_arg_kwarg_bad(2,3,4,5,6,7, a=1, b=8, k=1, l=2)"
   ]
  },
  {
   "cell_type": "markdown",
   "metadata": {},
   "source": [
    "### Decorator"
   ]
  },
  {
   "cell_type": "code",
   "execution_count": 188,
   "metadata": {},
   "outputs": [],
   "source": [
    "# Decorator helps the programmer to reduce repetitive parts in functions.\n",
    "# it is also used when you want the users to change class attribute/methods without touching the actual code.\n",
    "# for example\n",
    "def func1(a, b):\n",
    "    print('Thanks')\n",
    "    print(a + b)\n",
    "    print('Thanks again')\n",
    "\n",
    "def func2(a, b):\n",
    "    print('Thanks')\n",
    "    print(a * b)\n",
    "    print('Thanks again')\n",
    "\n",
    "def func3(a, b):\n",
    "    print('Thanks')\n",
    "    print(a / b)\n",
    "    print('Thanks again')\n",
    "\n",
    "def func4(a, b):\n",
    "    print('Thanks')\n",
    "    print(a ** b)\n",
    "    print('Thanks again')\n",
    "\n",
    "def func5(a, b):\n",
    "    print('Thanks')\n",
    "    print(a // b)\n",
    "    print('Thanks again')\n",
    "\n",
    "# print('Thanks') and print('Thanks again') parts are repetitive and can be reduced ('DRY' = \"Don't repeat yourself\")"
   ]
  },
  {
   "cell_type": "code",
   "execution_count": 206,
   "metadata": {},
   "outputs": [],
   "source": [
    "def Func(f):\n",
    "    def r(a, b):\n",
    "        print('Thanks')\n",
    "        f(a, b)\n",
    "        print('Thanks again')\n",
    "    return r\n",
    "\n",
    "def func1(a, b):\n",
    "    print(a + b)\n",
    "\n",
    "def func2(a, b):\n",
    "    print(a * b)\n",
    "\n",
    "def func3(a, b):\n",
    "    print(a / b)\n",
    "\n",
    "def func4(a, b):\n",
    "    print(a ** b)\n",
    "\n",
    "def func5(a, b):\n",
    "    print(a // b)"
   ]
  },
  {
   "cell_type": "code",
   "execution_count": 216,
   "metadata": {},
   "outputs": [],
   "source": [
    "Func(func1)(2,5)"
   ]
  },
  {
   "cell_type": "code",
   "execution_count": 217,
   "metadata": {},
   "outputs": [],
   "source": [
    "# using decorator\n",
    "def Func(f):\n",
    "    def r(a, b):\n",
    "        print('Thanks')\n",
    "        f(a, b)\n",
    "        print('Thanks again')\n",
    "    return r\n",
    "\n",
    "@Func\n",
    "def func1(a, b):\n",
    "    print(a + b)\n",
    "\n",
    "@Func\n",
    "def func2(a, b):\n",
    "    print(a * b)\n",
    "\n",
    "@Func\n",
    "def func3(a, b):\n",
    "    print(a / b)\n",
    "\n",
    "@Func\n",
    "def func4(a, b):\n",
    "    print(a ** b)\n",
    "\n",
    "@Func\n",
    "def func5(a, b):\n",
    "    print(a // b)"
   ]
  },
  {
   "cell_type": "code",
   "execution_count": 219,
   "metadata": {},
   "outputs": [],
   "source": [
    "func1(2,5)"
   ]
  },
  {
   "cell_type": "markdown",
   "metadata": {},
   "source": [
    "### Classmethod, Staticmethod"
   ]
  },
  {
   "cell_type": "code",
   "execution_count": 72,
   "metadata": {},
   "outputs": [],
   "source": [
    "# classmethods can directly access only to the class, and staticmethods can not access directly to either class, or instances.\n",
    "from datetime import datetime\n",
    "class People:\n",
    "    def __init__(self, name, age, gender, country, *args, **kwargs): # this is a normal instance method\n",
    "        self.name, self.age, self.gender, self.country = name, age, gender, country\n",
    "        self.birthday = datetime(args[0],args[1],args[2])\n",
    "        for i, j in kwargs.items():\n",
    "            self.i = j\n",
    "    \n",
    "    @classmethod\n",
    "    def Sandra(cls): # class method\n",
    "        return cls('Sandra', 13, 'Female', 'US', 2006, 4, 26, hobby='Bicycle', family_name='Johns')\n",
    "    \n",
    "    @classmethod\n",
    "    def Kyle(cls):\n",
    "        return cls('Kyle', 7, 'Male', 'Japan', 2012, 9, 30, family_name='Ryder')\n",
    "    \n",
    "    @staticmethod\n",
    "    def age_converter(age, birthday): # static method\n",
    "        tmonth, tday = datetime.today().month, datetime.today().day\n",
    "        bmonth, bday = birthday.month, birthday.day\n",
    "        if tmonth > bmonth:\n",
    "            age += 1\n",
    "        elif tmonth < bmonth:\n",
    "            age += 2\n",
    "        else:\n",
    "            if tday >= bday:\n",
    "                age += 1\n",
    "            else:\n",
    "                age += 2\n",
    "        return age\n",
    "    \n",
    "    @property\n",
    "    def local_age(self):\n",
    "        if self.country != 'US':\n",
    "            return self.age_converter(self.age, self.birthday)\n",
    "        else:\n",
    "            return self.age"
   ]
  },
  {
   "cell_type": "code",
   "execution_count": 74,
   "metadata": {},
   "outputs": [],
   "source": [
    "print(People.Sandra().local_age)\n",
    "print(People.Kyle().local_age)"
   ]
  },
  {
   "cell_type": "code",
   "execution_count": 223,
   "metadata": {},
   "outputs": [],
   "source": [
    "# Decorator is also used when you want the users to change class attribute/methods without touching the actual code.\n",
    "# for example\n",
    "class MyClass:\n",
    "    def __init__(self, name, deposit):\n",
    "        self.name = name\n",
    "        self.deposit = deposit\n",
    "        self.idcard = name + \" : \" + str(deposit)\n",
    "    \n",
    "    def save(self, val):\n",
    "        self.deposit += val"
   ]
  },
  {
   "cell_type": "code",
   "execution_count": 226,
   "metadata": {},
   "outputs": [],
   "source": [
    "Alex = MyClass('Alex', 10000)\n",
    "print(Alex.name)\n",
    "print(Alex.deposit)\n",
    "print(Alex.idcard, '\\n')\n",
    "\n",
    "# change made\n",
    "Alex.save(5000)\n",
    "Alex.name = 'Alexander'\n",
    "\n",
    "print(Alex.name)\n",
    "print(Alex.deposit)\n",
    "print(Alex.idcard) # Alex.idcard remains unchanged as 'Alex : 10000'"
   ]
  },
  {
   "cell_type": "markdown",
   "metadata": {},
   "source": [
    "### Property"
   ]
  },
  {
   "cell_type": "code",
   "execution_count": 229,
   "metadata": {},
   "outputs": [],
   "source": [
    "# 'property(built-in)' decorator can make a method as a property(attribute) to solve this problem\n",
    "class MyClass:\n",
    "    def __init__(self, name, deposit):\n",
    "        self.name = name\n",
    "        self.deposit = deposit\n",
    "    \n",
    "    @property\n",
    "    def idcard(self):\n",
    "        return self.name + \" : \" + str(self.deposit)\n",
    "    \n",
    "    def save(self, val):\n",
    "        self.deposit += val"
   ]
  },
  {
   "cell_type": "code",
   "execution_count": 231,
   "metadata": {},
   "outputs": [],
   "source": [
    "Alex = MyClass('Alex', 10000)\n",
    "print(Alex.name)\n",
    "print(Alex.deposit)\n",
    "print(Alex.idcard, '\\n')\n",
    "\n",
    "# change made\n",
    "Alex.save(5000)\n",
    "Alex.name = 'Alexander'\n",
    "\n",
    "print(Alex.name)\n",
    "print(Alex.deposit)\n",
    "print(Alex.idcard) # Alex.idcard is changed now"
   ]
  },
  {
   "cell_type": "code",
   "execution_count": 3,
   "metadata": {},
   "outputs": [],
   "source": [
    "# property_name.setter decorator can update the property\n",
    "class MyClass:\n",
    "    def __init__(self, name, deposit):\n",
    "        self.name = name\n",
    "        self.deposit = deposit\n",
    "    \n",
    "    @property\n",
    "    def idcard(self):\n",
    "        return self.name + \" : \" + str(self.deposit)\n",
    "    \n",
    "    @idcard.setter\n",
    "    def idcard(self, tuple1):\n",
    "        self.name = tuple1[0]\n",
    "        self.deposit = tuple1[1]\n",
    "    \n",
    "    def save(self, val):\n",
    "        self.deposit += val"
   ]
  },
  {
   "cell_type": "code",
   "execution_count": 17,
   "metadata": {},
   "outputs": [],
   "source": [
    "Alex = MyClass('Alex', 10000)\n",
    "print(Alex.name)\n",
    "print(Alex.deposit)\n",
    "print(Alex.idcard, '\\n')\n",
    "\n",
    "# change made\n",
    "Alex.save(5000)\n",
    "Alex.name = 'Alexander'\n",
    "\n",
    "print(Alex.name)\n",
    "print(Alex.deposit)\n",
    "print(Alex.idcard, '\\n')\n",
    "\n",
    "# change made\n",
    "Alex.idcard = ('Ali', 3000)\n",
    "\n",
    "print(Alex.name)\n",
    "print(Alex.deposit)\n",
    "print(Alex.idcard)"
   ]
  },
  {
   "cell_type": "code",
   "execution_count": 15,
   "metadata": {},
   "outputs": [],
   "source": [
    "# Another way to do the same thing (not recommended)\n",
    "# https://www.programiz.com/python-programming/methods/built-in/property\n",
    "class MyClass:\n",
    "    def __init__(self, name, deposit):\n",
    "        self.name = name\n",
    "        self.deposit = deposit\n",
    "        tuple1 = self.name, self.deposit\n",
    "        self.set_idcard(tuple1)\n",
    "        \n",
    "    def get_idcard(self):\n",
    "        return self.name + \" : \" + str(self.deposit)\n",
    "    \n",
    "    def set_idcard(self, tuple1):\n",
    "        self.name = tuple1[0]\n",
    "        self.deposit = tuple1[1]\n",
    "    \n",
    "    def save(self, val):\n",
    "        self.deposit += val\n",
    "    \n",
    "    idcard = property(get_idcard, set_idcard)"
   ]
  },
  {
   "cell_type": "code",
   "execution_count": 18,
   "metadata": {},
   "outputs": [],
   "source": [
    "Alex = MyClass('Alex', 10000)\n",
    "print(Alex.name)\n",
    "print(Alex.deposit)\n",
    "print(Alex.idcard, '\\n')\n",
    "\n",
    "# change made\n",
    "Alex.save(5000)\n",
    "Alex.name = 'Alexander'\n",
    "\n",
    "print(Alex.name)\n",
    "print(Alex.deposit)\n",
    "print(Alex.idcard, '\\n')\n",
    "\n",
    "# change made\n",
    "Alex.idcard = 'Ali', 3000\n",
    "\n",
    "print(Alex.name)\n",
    "print(Alex.deposit)\n",
    "print(Alex.idcard)"
   ]
  }
 ],
 "metadata": {
  "kernelspec": {
   "display_name": "Python 3",
   "language": "python",
   "name": "python3"
  },
  "language_info": {
   "codemirror_mode": {
    "name": "ipython",
    "version": 3
   },
   "file_extension": ".py",
   "mimetype": "text/x-python",
   "name": "python",
   "nbconvert_exporter": "python",
   "pygments_lexer": "ipython3",
   "version": "3.7.1"
  }
 },
 "nbformat": 4,
 "nbformat_minor": 2
}
